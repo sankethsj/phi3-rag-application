{
 "cells": [
  {
   "cell_type": "markdown",
   "id": "9090e0e5-5452-4ebb-905c-13dd8fbca85c",
   "metadata": {},
   "source": [
    "# RAG Application - POC\n",
    "\n",
    "This notebook provides a demonstration of how a Retrieval-Augmented Generation (RAG) application functions."
   ]
  },
  {
   "cell_type": "markdown",
   "id": "7e36d3ad-6b19-41b2-8711-1ca0f7384eae",
   "metadata": {},
   "source": [
    "### Enter your query"
   ]
  },
  {
   "cell_type": "code",
   "execution_count": 1,
   "id": "9ad48863-d1ff-4e1e-8cc1-6e61dc5eb1e5",
   "metadata": {},
   "outputs": [
    {
     "data": {
      "text/plain": [
       "'WHat is this project about ?'"
      ]
     },
     "execution_count": 1,
     "metadata": {},
     "output_type": "execute_result"
    }
   ],
   "source": [
    "query_text = input(\"Ask anything about our final year project\")\n",
    "query_text"
   ]
  },
  {
   "cell_type": "markdown",
   "id": "ef3f9f83-fd2e-4842-9646-39ce45caf94e",
   "metadata": {},
   "source": [
    "### Import LangChain libraries"
   ]
  },
  {
   "cell_type": "code",
   "execution_count": 2,
   "id": "5af9d7a5-e2e3-4072-bc93-c0fb4570d0f0",
   "metadata": {},
   "outputs": [],
   "source": [
    "from langchain_community.document_loaders import PyPDFLoader\n",
    "from langchain_text_splitters import RecursiveCharacterTextSplitter\n",
    "from langchain_core.prompts import ChatPromptTemplate\n",
    "from langchain_community.llms import Ollama"
   ]
  },
  {
   "cell_type": "markdown",
   "id": "812f5521-9928-427d-9eec-31df72a371b0",
   "metadata": {},
   "source": [
    "### Import utility functions"
   ]
  },
  {
   "cell_type": "code",
   "execution_count": 3,
   "id": "15a5c2a0-3ce6-48b8-87c8-ab6cc5fe9c64",
   "metadata": {},
   "outputs": [
    {
     "name": "stderr",
     "output_type": "stream",
     "text": [
      "[nltk_data] Downloading package stopwords to\n",
      "[nltk_data]     C:\\Users\\impostor\\AppData\\Roaming\\nltk_data...\n",
      "[nltk_data]   Package stopwords is already up-to-date!\n",
      "[nltk_data] Downloading package punkt to\n",
      "[nltk_data]     C:\\Users\\impostor\\AppData\\Roaming\\nltk_data...\n",
      "[nltk_data]   Package punkt is already up-to-date!\n",
      "[nltk_data] Downloading package punkt_tab to\n",
      "[nltk_data]     C:\\Users\\impostor\\AppData\\Roaming\\nltk_data...\n",
      "[nltk_data]   Unzipping tokenizers\\punkt_tab.zip.\n"
     ]
    },
    {
     "name": "stdout",
     "output_type": "stream",
     "text": [
      "Chroma DB connected\n"
     ]
    },
    {
     "name": "stderr",
     "output_type": "stream",
     "text": [
      "e:\\Coding\\Python\\rag-app\\.venv\\lib\\site-packages\\sentence_transformers\\cross_encoder\\CrossEncoder.py:13: TqdmExperimentalWarning: Using `tqdm.autonotebook.tqdm` in notebook mode. Use `tqdm.tqdm` instead to force console mode (e.g. in jupyter console)\n",
      "  from tqdm.autonotebook import tqdm, trange\n"
     ]
    },
    {
     "name": "stdout",
     "output_type": "stream",
     "text": [
      "Embedding function loaded\n"
     ]
    }
   ],
   "source": [
    "from rag.keyword_generator import extract_keywords\n",
    "from rag.db import get_db_collection, add_to_collection, query_collection"
   ]
  },
  {
   "cell_type": "markdown",
   "id": "f807d170-846c-4b1f-bfd5-5c2d3356cb11",
   "metadata": {},
   "source": [
    "## Load pdf document and load it into Vector Database"
   ]
  },
  {
   "cell_type": "code",
   "execution_count": 4,
   "id": "719fb734-9f49-432b-afc7-4debea1f67e7",
   "metadata": {},
   "outputs": [
    {
     "name": "stdout",
     "output_type": "stream",
     "text": [
      "No. of pages in the document: 23\n"
     ]
    }
   ],
   "source": [
    "file_path = (\n",
    "    \"docs/project-report.pdf\"\n",
    ")\n",
    "loader = PyPDFLoader(file_path)\n",
    "document = loader.load()\n",
    "print(\"No. of pages in the document:\", len(document))"
   ]
  },
  {
   "cell_type": "markdown",
   "id": "7c63529b-9bae-41bf-a04f-0ac1537c4e23",
   "metadata": {},
   "source": [
    "#### Split pages into chunks of texts"
   ]
  },
  {
   "cell_type": "code",
   "execution_count": 5,
   "id": "fa3e01b9-9eeb-4933-b305-926a8e281f14",
   "metadata": {},
   "outputs": [],
   "source": [
    "text_splitter = RecursiveCharacterTextSplitter(chunk_size=1000, chunk_overlap=100)\n",
    "chunked_documents = text_splitter.split_documents(document)"
   ]
  },
  {
   "cell_type": "markdown",
   "id": "35410091-be28-4fa2-b92e-b8fe0100a6bf",
   "metadata": {},
   "source": [
    "#### Prepare data for indexing\n",
    "- Generate Unique Id for individual chunks\n",
    "- Generate keywords for metadata using NLP"
   ]
  },
  {
   "cell_type": "code",
   "execution_count": 6,
   "id": "55e917f9-adeb-4cd5-afea-3ab4338c7e20",
   "metadata": {},
   "outputs": [
    {
     "name": "stdout",
     "output_type": "stream",
     "text": [
      "Processed chunk: docs-project-report-pdf-p0-c0\n",
      "Processed chunk: docs-project-report-pdf-p1-c0\n",
      "Processed chunk: docs-project-report-pdf-p1-c1\n",
      "Processed chunk: docs-project-report-pdf-p2-c0\n",
      "Processed chunk: docs-project-report-pdf-p2-c1\n",
      "Processed chunk: docs-project-report-pdf-p3-c0\n",
      "Processed chunk: docs-project-report-pdf-p4-c0\n",
      "Processed chunk: docs-project-report-pdf-p5-c0\n",
      "Processed chunk: docs-project-report-pdf-p6-c0\n",
      "Processed chunk: docs-project-report-pdf-p6-c1\n",
      "Processed chunk: docs-project-report-pdf-p6-c2\n",
      "Processed chunk: docs-project-report-pdf-p7-c0\n",
      "Processed chunk: docs-project-report-pdf-p7-c1\n",
      "Processed chunk: docs-project-report-pdf-p7-c2\n",
      "Processed chunk: docs-project-report-pdf-p8-c0\n",
      "Processed chunk: docs-project-report-pdf-p8-c1\n",
      "Processed chunk: docs-project-report-pdf-p9-c0\n",
      "Processed chunk: docs-project-report-pdf-p10-c0\n",
      "Processed chunk: docs-project-report-pdf-p10-c1\n",
      "Processed chunk: docs-project-report-pdf-p10-c2\n",
      "Processed chunk: docs-project-report-pdf-p11-c0\n",
      "Processed chunk: docs-project-report-pdf-p11-c1\n",
      "Processed chunk: docs-project-report-pdf-p12-c0\n",
      "Processed chunk: docs-project-report-pdf-p12-c1\n",
      "Processed chunk: docs-project-report-pdf-p13-c0\n",
      "Processed chunk: docs-project-report-pdf-p14-c0\n",
      "Processed chunk: docs-project-report-pdf-p15-c0\n",
      "Processed chunk: docs-project-report-pdf-p16-c0\n",
      "Processed chunk: docs-project-report-pdf-p17-c0\n",
      "Processed chunk: docs-project-report-pdf-p18-c0\n",
      "Processed chunk: docs-project-report-pdf-p19-c0\n",
      "Processed chunk: docs-project-report-pdf-p20-c0\n",
      "Processed chunk: docs-project-report-pdf-p21-c0\n",
      "Processed chunk: docs-project-report-pdf-p21-c1\n",
      "Processed chunk: docs-project-report-pdf-p22-c0\n",
      "Processed chunk: docs-project-report-pdf-p22-c1\n"
     ]
    }
   ],
   "source": [
    "contents = []\n",
    "ids = []\n",
    "keywords = []\n",
    "\n",
    "page_no = 0\n",
    "c_index = -1\n",
    "for index, doc in enumerate(chunked_documents):\n",
    "    metadata = doc.metadata\n",
    "    source = metadata['source'].replace('/','-').replace('.','-')\n",
    "\n",
    "    if metadata['page'] > page_no:\n",
    "        c_index = 0\n",
    "    else:\n",
    "        c_index += 1\n",
    "\n",
    "    page_no = metadata['page']\n",
    "    \n",
    "    chunk_id = f\"{source}-p{page_no}-c{c_index}\"\n",
    "\n",
    "    contents.append(doc.page_content)\n",
    "    ids.append(chunk_id)\n",
    "    keywords.append(extract_keywords(doc.page_content))\n",
    "    print(\"Processed chunk:\", chunk_id)"
   ]
  },
  {
   "cell_type": "markdown",
   "id": "8a02d956-3136-4c28-98b0-b131b63c005c",
   "metadata": {},
   "source": [
    "### Create a collection in Chroma DB"
   ]
  },
  {
   "cell_type": "code",
   "execution_count": 7,
   "id": "88ba0425-f87c-4231-a4e6-53e2f6590ea4",
   "metadata": {
    "scrolled": true
   },
   "outputs": [
    {
     "name": "stderr",
     "output_type": "stream",
     "text": [
      "Add of existing embedding ID: docs-project-report-pdf-p0-c0\n",
      "Add of existing embedding ID: docs-project-report-pdf-p1-c0\n",
      "Add of existing embedding ID: docs-project-report-pdf-p1-c1\n",
      "Add of existing embedding ID: docs-project-report-pdf-p2-c0\n",
      "Add of existing embedding ID: docs-project-report-pdf-p2-c1\n",
      "Add of existing embedding ID: docs-project-report-pdf-p3-c0\n",
      "Add of existing embedding ID: docs-project-report-pdf-p4-c0\n",
      "Add of existing embedding ID: docs-project-report-pdf-p5-c0\n",
      "Add of existing embedding ID: docs-project-report-pdf-p6-c0\n",
      "Add of existing embedding ID: docs-project-report-pdf-p6-c1\n",
      "Add of existing embedding ID: docs-project-report-pdf-p6-c2\n",
      "Add of existing embedding ID: docs-project-report-pdf-p7-c0\n",
      "Add of existing embedding ID: docs-project-report-pdf-p7-c1\n",
      "Add of existing embedding ID: docs-project-report-pdf-p7-c2\n",
      "Add of existing embedding ID: docs-project-report-pdf-p8-c0\n",
      "Add of existing embedding ID: docs-project-report-pdf-p8-c1\n",
      "Add of existing embedding ID: docs-project-report-pdf-p9-c0\n",
      "Add of existing embedding ID: docs-project-report-pdf-p10-c0\n",
      "Add of existing embedding ID: docs-project-report-pdf-p10-c1\n",
      "Add of existing embedding ID: docs-project-report-pdf-p10-c2\n",
      "Add of existing embedding ID: docs-project-report-pdf-p11-c0\n",
      "Add of existing embedding ID: docs-project-report-pdf-p11-c1\n",
      "Add of existing embedding ID: docs-project-report-pdf-p12-c0\n",
      "Add of existing embedding ID: docs-project-report-pdf-p12-c1\n",
      "Add of existing embedding ID: docs-project-report-pdf-p13-c0\n",
      "Add of existing embedding ID: docs-project-report-pdf-p14-c0\n",
      "Add of existing embedding ID: docs-project-report-pdf-p15-c0\n",
      "Add of existing embedding ID: docs-project-report-pdf-p16-c0\n",
      "Add of existing embedding ID: docs-project-report-pdf-p17-c0\n",
      "Add of existing embedding ID: docs-project-report-pdf-p18-c0\n",
      "Add of existing embedding ID: docs-project-report-pdf-p19-c0\n",
      "Add of existing embedding ID: docs-project-report-pdf-p20-c0\n",
      "Add of existing embedding ID: docs-project-report-pdf-p21-c0\n",
      "Add of existing embedding ID: docs-project-report-pdf-p21-c1\n",
      "Add of existing embedding ID: docs-project-report-pdf-p22-c0\n",
      "Add of existing embedding ID: docs-project-report-pdf-p22-c1\n",
      "Add of existing embedding ID: docs-project-report-pdf-p0-c0\n",
      "Add of existing embedding ID: docs-project-report-pdf-p1-c0\n",
      "Add of existing embedding ID: docs-project-report-pdf-p1-c1\n",
      "Add of existing embedding ID: docs-project-report-pdf-p2-c0\n",
      "Add of existing embedding ID: docs-project-report-pdf-p2-c1\n",
      "Add of existing embedding ID: docs-project-report-pdf-p3-c0\n",
      "Add of existing embedding ID: docs-project-report-pdf-p4-c0\n",
      "Add of existing embedding ID: docs-project-report-pdf-p5-c0\n",
      "Add of existing embedding ID: docs-project-report-pdf-p6-c0\n",
      "Add of existing embedding ID: docs-project-report-pdf-p6-c1\n",
      "Add of existing embedding ID: docs-project-report-pdf-p6-c2\n",
      "Add of existing embedding ID: docs-project-report-pdf-p7-c0\n",
      "Add of existing embedding ID: docs-project-report-pdf-p7-c1\n",
      "Add of existing embedding ID: docs-project-report-pdf-p7-c2\n",
      "Add of existing embedding ID: docs-project-report-pdf-p8-c0\n",
      "Add of existing embedding ID: docs-project-report-pdf-p8-c1\n",
      "Add of existing embedding ID: docs-project-report-pdf-p9-c0\n",
      "Add of existing embedding ID: docs-project-report-pdf-p10-c0\n",
      "Add of existing embedding ID: docs-project-report-pdf-p10-c1\n",
      "Add of existing embedding ID: docs-project-report-pdf-p10-c2\n",
      "Add of existing embedding ID: docs-project-report-pdf-p11-c0\n",
      "Add of existing embedding ID: docs-project-report-pdf-p11-c1\n",
      "Add of existing embedding ID: docs-project-report-pdf-p12-c0\n",
      "Add of existing embedding ID: docs-project-report-pdf-p12-c1\n",
      "Add of existing embedding ID: docs-project-report-pdf-p13-c0\n",
      "Add of existing embedding ID: docs-project-report-pdf-p14-c0\n",
      "Add of existing embedding ID: docs-project-report-pdf-p15-c0\n",
      "Add of existing embedding ID: docs-project-report-pdf-p16-c0\n",
      "Add of existing embedding ID: docs-project-report-pdf-p17-c0\n",
      "Add of existing embedding ID: docs-project-report-pdf-p18-c0\n",
      "Add of existing embedding ID: docs-project-report-pdf-p19-c0\n",
      "Add of existing embedding ID: docs-project-report-pdf-p20-c0\n",
      "Add of existing embedding ID: docs-project-report-pdf-p21-c0\n",
      "Add of existing embedding ID: docs-project-report-pdf-p21-c1\n",
      "Add of existing embedding ID: docs-project-report-pdf-p22-c0\n",
      "Add of existing embedding ID: docs-project-report-pdf-p22-c1\n",
      "Add of existing embedding ID: docs-project-report-pdf-p0-c0\n",
      "Add of existing embedding ID: docs-project-report-pdf-p1-c0\n",
      "Add of existing embedding ID: docs-project-report-pdf-p1-c1\n",
      "Add of existing embedding ID: docs-project-report-pdf-p2-c0\n",
      "Add of existing embedding ID: docs-project-report-pdf-p2-c1\n",
      "Add of existing embedding ID: docs-project-report-pdf-p3-c0\n",
      "Add of existing embedding ID: docs-project-report-pdf-p4-c0\n",
      "Add of existing embedding ID: docs-project-report-pdf-p5-c0\n",
      "Add of existing embedding ID: docs-project-report-pdf-p6-c0\n",
      "Add of existing embedding ID: docs-project-report-pdf-p6-c1\n",
      "Add of existing embedding ID: docs-project-report-pdf-p6-c2\n",
      "Add of existing embedding ID: docs-project-report-pdf-p7-c0\n",
      "Add of existing embedding ID: docs-project-report-pdf-p7-c1\n",
      "Add of existing embedding ID: docs-project-report-pdf-p7-c2\n",
      "Add of existing embedding ID: docs-project-report-pdf-p8-c0\n",
      "Add of existing embedding ID: docs-project-report-pdf-p8-c1\n",
      "Add of existing embedding ID: docs-project-report-pdf-p9-c0\n",
      "Add of existing embedding ID: docs-project-report-pdf-p10-c0\n",
      "Add of existing embedding ID: docs-project-report-pdf-p10-c1\n",
      "Add of existing embedding ID: docs-project-report-pdf-p10-c2\n",
      "Add of existing embedding ID: docs-project-report-pdf-p11-c0\n",
      "Add of existing embedding ID: docs-project-report-pdf-p11-c1\n",
      "Add of existing embedding ID: docs-project-report-pdf-p12-c0\n",
      "Add of existing embedding ID: docs-project-report-pdf-p12-c1\n",
      "Add of existing embedding ID: docs-project-report-pdf-p13-c0\n",
      "Add of existing embedding ID: docs-project-report-pdf-p14-c0\n",
      "Add of existing embedding ID: docs-project-report-pdf-p15-c0\n",
      "Add of existing embedding ID: docs-project-report-pdf-p16-c0\n",
      "Add of existing embedding ID: docs-project-report-pdf-p17-c0\n",
      "Add of existing embedding ID: docs-project-report-pdf-p18-c0\n",
      "Add of existing embedding ID: docs-project-report-pdf-p19-c0\n",
      "Add of existing embedding ID: docs-project-report-pdf-p20-c0\n",
      "Add of existing embedding ID: docs-project-report-pdf-p21-c0\n",
      "Add of existing embedding ID: docs-project-report-pdf-p21-c1\n",
      "Add of existing embedding ID: docs-project-report-pdf-p22-c0\n",
      "Add of existing embedding ID: docs-project-report-pdf-p22-c1\n",
      "Add of existing embedding ID: docs-project-report-pdf-p0-c0\n",
      "Add of existing embedding ID: docs-project-report-pdf-p1-c0\n",
      "Add of existing embedding ID: docs-project-report-pdf-p1-c1\n",
      "Add of existing embedding ID: docs-project-report-pdf-p2-c0\n",
      "Add of existing embedding ID: docs-project-report-pdf-p2-c1\n",
      "Add of existing embedding ID: docs-project-report-pdf-p3-c0\n",
      "Add of existing embedding ID: docs-project-report-pdf-p4-c0\n",
      "Add of existing embedding ID: docs-project-report-pdf-p5-c0\n",
      "Add of existing embedding ID: docs-project-report-pdf-p6-c0\n",
      "Add of existing embedding ID: docs-project-report-pdf-p6-c1\n",
      "Add of existing embedding ID: docs-project-report-pdf-p6-c2\n",
      "Add of existing embedding ID: docs-project-report-pdf-p7-c0\n",
      "Add of existing embedding ID: docs-project-report-pdf-p7-c1\n",
      "Add of existing embedding ID: docs-project-report-pdf-p7-c2\n",
      "Add of existing embedding ID: docs-project-report-pdf-p8-c0\n",
      "Add of existing embedding ID: docs-project-report-pdf-p8-c1\n",
      "Add of existing embedding ID: docs-project-report-pdf-p9-c0\n",
      "Add of existing embedding ID: docs-project-report-pdf-p10-c0\n",
      "Add of existing embedding ID: docs-project-report-pdf-p10-c1\n",
      "Add of existing embedding ID: docs-project-report-pdf-p10-c2\n",
      "Add of existing embedding ID: docs-project-report-pdf-p11-c0\n",
      "Add of existing embedding ID: docs-project-report-pdf-p11-c1\n",
      "Add of existing embedding ID: docs-project-report-pdf-p12-c0\n",
      "Add of existing embedding ID: docs-project-report-pdf-p12-c1\n",
      "Add of existing embedding ID: docs-project-report-pdf-p13-c0\n",
      "Add of existing embedding ID: docs-project-report-pdf-p14-c0\n",
      "Add of existing embedding ID: docs-project-report-pdf-p15-c0\n",
      "Add of existing embedding ID: docs-project-report-pdf-p16-c0\n",
      "Add of existing embedding ID: docs-project-report-pdf-p17-c0\n",
      "Add of existing embedding ID: docs-project-report-pdf-p18-c0\n",
      "Add of existing embedding ID: docs-project-report-pdf-p19-c0\n",
      "Add of existing embedding ID: docs-project-report-pdf-p20-c0\n",
      "Add of existing embedding ID: docs-project-report-pdf-p21-c0\n",
      "Add of existing embedding ID: docs-project-report-pdf-p21-c1\n",
      "Add of existing embedding ID: docs-project-report-pdf-p22-c0\n",
      "Add of existing embedding ID: docs-project-report-pdf-p22-c1\n",
      "Insert of existing embedding ID: docs-project-report-pdf-p0-c0\n",
      "Insert of existing embedding ID: docs-project-report-pdf-p1-c0\n",
      "Insert of existing embedding ID: docs-project-report-pdf-p1-c1\n",
      "Insert of existing embedding ID: docs-project-report-pdf-p2-c0\n",
      "Insert of existing embedding ID: docs-project-report-pdf-p2-c1\n",
      "Insert of existing embedding ID: docs-project-report-pdf-p3-c0\n",
      "Insert of existing embedding ID: docs-project-report-pdf-p4-c0\n",
      "Insert of existing embedding ID: docs-project-report-pdf-p5-c0\n",
      "Insert of existing embedding ID: docs-project-report-pdf-p6-c0\n",
      "Insert of existing embedding ID: docs-project-report-pdf-p6-c1\n",
      "Insert of existing embedding ID: docs-project-report-pdf-p6-c2\n",
      "Insert of existing embedding ID: docs-project-report-pdf-p7-c0\n",
      "Insert of existing embedding ID: docs-project-report-pdf-p7-c1\n",
      "Insert of existing embedding ID: docs-project-report-pdf-p7-c2\n",
      "Insert of existing embedding ID: docs-project-report-pdf-p8-c0\n",
      "Insert of existing embedding ID: docs-project-report-pdf-p8-c1\n",
      "Insert of existing embedding ID: docs-project-report-pdf-p9-c0\n",
      "Insert of existing embedding ID: docs-project-report-pdf-p10-c0\n",
      "Insert of existing embedding ID: docs-project-report-pdf-p10-c1\n",
      "Insert of existing embedding ID: docs-project-report-pdf-p10-c2\n",
      "Insert of existing embedding ID: docs-project-report-pdf-p11-c0\n",
      "Insert of existing embedding ID: docs-project-report-pdf-p11-c1\n",
      "Insert of existing embedding ID: docs-project-report-pdf-p12-c0\n",
      "Insert of existing embedding ID: docs-project-report-pdf-p12-c1\n",
      "Insert of existing embedding ID: docs-project-report-pdf-p13-c0\n",
      "Insert of existing embedding ID: docs-project-report-pdf-p14-c0\n",
      "Insert of existing embedding ID: docs-project-report-pdf-p15-c0\n",
      "Insert of existing embedding ID: docs-project-report-pdf-p16-c0\n",
      "Insert of existing embedding ID: docs-project-report-pdf-p17-c0\n",
      "Insert of existing embedding ID: docs-project-report-pdf-p18-c0\n",
      "Insert of existing embedding ID: docs-project-report-pdf-p19-c0\n",
      "Insert of existing embedding ID: docs-project-report-pdf-p20-c0\n",
      "Insert of existing embedding ID: docs-project-report-pdf-p21-c0\n",
      "Insert of existing embedding ID: docs-project-report-pdf-p21-c1\n",
      "Insert of existing embedding ID: docs-project-report-pdf-p22-c0\n",
      "Insert of existing embedding ID: docs-project-report-pdf-p22-c1\n"
     ]
    },
    {
     "name": "stdout",
     "output_type": "stream",
     "text": [
      "Documents loaded to DB\n"
     ]
    }
   ],
   "source": [
    "COLLECTION_NAME = \"my_project\"\n",
    "collection = get_db_collection(COLLECTION_NAME)\n",
    "\n",
    "metadata = [{\"tags\": \", \".join(i) } for i in keywords]\n",
    "add_to_collection(collection, contents, ids, metadata)"
   ]
  },
  {
   "cell_type": "markdown",
   "id": "bcd12033-9b77-496b-b88c-472d6be3146f",
   "metadata": {},
   "source": [
    "### Chunks retreived from the DB"
   ]
  },
  {
   "cell_type": "code",
   "execution_count": 8,
   "id": "940bef63-4ec8-4eb1-835b-8609e4050ac5",
   "metadata": {},
   "outputs": [
    {
     "data": {
      "text/plain": [
       "{'ids': [['docs-project-report-pdf-p0-c0',\n",
       "   'docs-project-report-pdf-p10-c1',\n",
       "   'docs-project-report-pdf-p6-c1']],\n",
       " 'distances': [[0.4867134690284729, 0.49514859914779663, 0.5069766640663147]],\n",
       " 'metadatas': [[{'tags': 'engineering, mechatronics, mt, department, mt16mt'},\n",
       "   {'tags': 'machine, dispense, product, date, expiry'},\n",
       "   {'tags': 'areas, available, drug, especially, first'}]],\n",
       " 'embeddings': None,\n",
       " 'documents': [['VISVESVARAYA TECHNOLOGICAL UNIVERSITY  \\nBELAGAVI  \\n  \\n  \\n  \\nA  \\nProject Report on  \\n  \\n  \\nAUTOMATIC MEDICINE VENDING MACHINE  \\n  \\nIn partial fulfillment of the requirement for the award of the  \\nBachelor Degree  \\n  \\nIn  \\nMechatronics Engineering  \\n  \\nSubmitted  \\n  \\nby \\n  \\n  \\nSanketh S Raj Jain  \\n  \\n  \\nRakshith Shetty  \\n  \\n  \\nRoyson Pais  \\n  \\nPrajwal Poojary  \\n  \\n  \\n4 \\nMT16MT  \\n037 \\n  \\n  \\n4 \\nMT \\n16 \\nMT033  \\n  \\n  \\n4 \\nMT \\n17 \\nMT \\n408 \\n  \\n  \\n030 \\n 4 \\nMT16MT  \\n  \\n  \\nUnder the Guidance  \\n  \\nof \\n  \\n     \\nMr. Sathyanarayana  \\n  \\nHead of Mechatronics Department  \\n  \\n      \\n   \\nDEPARTMENT OF  \\nMECHATRONICS ENGINEERING  \\n  \\nMangalore  \\n  \\nInstitute of Technology and  \\nEngineering Moodbidri  \\n- \\n574225  \\n  \\n2019  \\n- \\n20',\n",
       "   'machine and provides even diamonds and platinum jewelers to customers [4]. This paper \\nproposed approach to desi gn an Automatic Dispense Machine with expiry date features \\nusing FSM model by VHDL. The expiry date feature is very useful for user if any product \\nis expiring than that product will not dispense and return back the money to the user. We \\nare using FSM (Fini te State Machine) modeling to implement our work.   \\nWe Implement the FSM based automatic dispense machine using Xilinx ISE 14.2. \\nFor verification (Simulation) we used Modalism 10.2a student addition tool from Mentor \\nGraphics Company. We conclude that our design is cost effective and dispense multi \\nproducts.  We also added an expiry date feature that is very useful for common man if any \\nproduct is out of date or expire machine will not dispense that product and if any person \\nhave inserted money for the same product machine will return full amount. At present',\n",
       "   'Especially in developing countries l ike India where there are innumerable numbers of \\npeople who are unable to avail medicines.  \\n              In this project the system will contain four medicines which are available as first \\naid and without prescription. They are Band -Aids for minor abrasio ns and cuts, \\nParacetamol for reducing fever, Vicks Action 500 for common cold and ORS packets for \\ndehydration and other problems involving loss of fluids in the body. Now -a-days in this \\nfast moving world, appliances which are completely automatic are prefe rred. This is the \\nbiggest advantage of this paper.  \\n              Several people in India die due to lack of diagnosis in first place and \\nnonavailability of medicine on time. Problem arise when need of some medicine is urgent \\nand drug stores are not open o r drug is not available in stock, especially during night time. \\nIn remote areas, rural areas and places where public turnover is less, the availability of']],\n",
       " 'uris': None,\n",
       " 'data': None,\n",
       " 'included': ['metadatas', 'documents', 'distances']}"
      ]
     },
     "execution_count": 8,
     "metadata": {},
     "output_type": "execute_result"
    }
   ],
   "source": [
    "query_result = query_collection(collection, query_text)\n",
    "query_result"
   ]
  },
  {
   "cell_type": "markdown",
   "id": "664bc5a3-6ce1-419b-a32c-70987f759c89",
   "metadata": {},
   "source": [
    "### Prepare final prompt to give to LLM model"
   ]
  },
  {
   "cell_type": "code",
   "execution_count": 9,
   "id": "a77b9e11-1079-4642-9c78-812b65b777c6",
   "metadata": {},
   "outputs": [
    {
     "data": {
      "text/plain": [
       "\"System: You are an assistant for question-answering tasks. Use the following pieces of retrieved context to answer the question. If you don't know find the answer in the provided context, say that you don't know. Use three sentences maximum and keep the answer concise.\\n\\nVISVESVARAYA TECHNOLOGICAL UNIVERSITY  \\nBELAGAVI  \\n  \\n  \\n  \\nA  \\nProject Report on  \\n  \\n  \\nAUTOMATIC MEDICINE VENDING MACHINE  \\n  \\nIn partial fulfillment of the requirement for the award of the  \\nBachelor Degree  \\n  \\nIn  \\nMechatronics Engineering  \\n  \\nSubmitted  \\n  \\nby \\n  \\n  \\nSanketh S Raj Jain  \\n  \\n  \\nRakshith Shetty  \\n  \\n  \\nRoyson Pais  \\n  \\nPrajwal Poojary  \\n  \\n  \\n4 \\nMT16MT  \\n037 \\n  \\n  \\n4 \\nMT \\n16 \\nMT033  \\n  \\n  \\n4 \\nMT \\n17 \\nMT \\n408 \\n  \\n  \\n030 \\n 4 \\nMT16MT  \\n  \\n  \\nUnder the Guidance  \\n  \\nof \\n  \\n     \\nMr. Sathyanarayana  \\n  \\nHead of Mechatronics Department  \\n  \\n      \\n   \\nDEPARTMENT OF  \\nMECHATRONICS ENGINEERING  \\n  \\nMangalore  \\n  \\nInstitute of Technology and  \\nEngineering Moodbidri  \\n- \\n574225  \\n  \\n2019  \\n- \\n20machine and provides even diamonds and platinum jewelers to customers [4]. This paper \\nproposed approach to desi gn an Automatic Dispense Machine with expiry date features \\nusing FSM model by VHDL. The expiry date feature is very useful for user if any product \\nis expiring than that product will not dispense and return back the money to the user. We \\nare using FSM (Fini te State Machine) modeling to implement our work.   \\nWe Implement the FSM based automatic dispense machine using Xilinx ISE 14.2. \\nFor verification (Simulation) we used Modalism 10.2a student addition tool from Mentor \\nGraphics Company. We conclude that our design is cost effective and dispense multi \\nproducts.  We also added an expiry date feature that is very useful for common man if any \\nproduct is out of date or expire machine will not dispense that product and if any person \\nhave inserted money for the same product machine will return full amount. At presentEspecially in developing countries l ike India where there are innumerable numbers of \\npeople who are unable to avail medicines.  \\n              In this project the system will contain four medicines which are available as first \\naid and without prescription. They are Band -Aids for minor abrasio ns and cuts, \\nParacetamol for reducing fever, Vicks Action 500 for common cold and ORS packets for \\ndehydration and other problems involving loss of fluids in the body. Now -a-days in this \\nfast moving world, appliances which are completely automatic are prefe rred. This is the \\nbiggest advantage of this paper.  \\n              Several people in India die due to lack of diagnosis in first place and \\nnonavailability of medicine on time. Problem arise when need of some medicine is urgent \\nand drug stores are not open o r drug is not available in stock, especially during night time. \\nIn remote areas, rural areas and places where public turnover is less, the availability of\\nHuman: WHat is this project about ?\""
      ]
     },
     "execution_count": 9,
     "metadata": {},
     "output_type": "execute_result"
    }
   ],
   "source": [
    "text = \"\"\n",
    "for doc in query_result['documents']:\n",
    "    for i in doc:\n",
    "        text += i\n",
    "\n",
    "system_prompt = (\n",
    "    \"You are an assistant for question-answering tasks. \"\n",
    "    \"Use the following pieces of retrieved context to answer \"\n",
    "    \"the question. If you don't know find the answer in the provided context, say that you \"\n",
    "    \"don't know. Use three sentences maximum and keep the \"\n",
    "    \"answer concise.\"\n",
    "    \"\\n\\n\"\n",
    "    \"{context}\"\n",
    ").format(context=text)\n",
    "\n",
    "prompt = ChatPromptTemplate.from_messages(\n",
    "    [\n",
    "        (\"system\", system_prompt),\n",
    "        (\"human\", \"{input}\"),\n",
    "    ]\n",
    ")\n",
    "final_prompt = prompt.format(input=query_text)\n",
    "final_prompt"
   ]
  },
  {
   "cell_type": "markdown",
   "id": "7e6186d0-bde6-4993-8318-8538a70421cf",
   "metadata": {},
   "source": [
    "### Connect to local LLM, I'm using phi-3 from Microsoft"
   ]
  },
  {
   "cell_type": "code",
   "execution_count": 10,
   "id": "11e1f6f6-7aa2-4aa0-ab06-d48b27087751",
   "metadata": {},
   "outputs": [],
   "source": [
    "llm = Ollama(\n",
    "    model=\"phi3\",\n",
    "    keep_alive=-1,\n",
    "    format=\"json\"\n",
    ")"
   ]
  },
  {
   "cell_type": "markdown",
   "id": "d8766590-98a5-4d5b-ba54-5682efe98635",
   "metadata": {},
   "source": [
    "### Final output from the LLM using the context"
   ]
  },
  {
   "cell_type": "code",
   "execution_count": 11,
   "id": "7da9baf8-b85d-471a-a66c-95952d1fab36",
   "metadata": {},
   "outputs": [
    {
     "data": {
      "text/plain": [
       "'{\"summary\": \"This project proposes an Automatic Medicine Vending Machine with expiry date features using a Finite State Machine (FSM) model. It contains four medicines available as first aid and without prescription, aiming to improve accessibility in developing countries like India.\"}'"
      ]
     },
     "execution_count": 11,
     "metadata": {},
     "output_type": "execute_result"
    }
   ],
   "source": [
    "llm.invoke(final_prompt)"
   ]
  },
  {
   "cell_type": "markdown",
   "id": "7330a74f",
   "metadata": {},
   "source": [
    "### Note: Output quality not only depends on the data quality but also on the model. Choose better models for high quality output. (Try [llama3.1](https://ollama.com/library/llama3.1), phi3 is decent if you're limited by your system requirements)"
   ]
  },
  {
   "cell_type": "code",
   "execution_count": null,
   "id": "91a2e553-bca4-41c0-92bc-d9e14f88ac1d",
   "metadata": {},
   "outputs": [],
   "source": []
  }
 ],
 "metadata": {
  "kernelspec": {
   "display_name": "Python 3 (ipykernel)",
   "language": "python",
   "name": "python3"
  },
  "language_info": {
   "codemirror_mode": {
    "name": "ipython",
    "version": 3
   },
   "file_extension": ".py",
   "mimetype": "text/x-python",
   "name": "python",
   "nbconvert_exporter": "python",
   "pygments_lexer": "ipython3",
   "version": "3.10.11"
  }
 },
 "nbformat": 4,
 "nbformat_minor": 5
}
